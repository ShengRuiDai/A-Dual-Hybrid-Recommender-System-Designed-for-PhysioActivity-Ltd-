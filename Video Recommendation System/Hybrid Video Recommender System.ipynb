{
 "cells": [
  {
   "cell_type": "markdown",
   "id": "3fc4ea4a",
   "metadata": {},
   "source": [
    "# Hybrid Video Recommender System"
   ]
  },
  {
   "cell_type": "code",
   "execution_count": 1,
   "id": "dbb596f9",
   "metadata": {},
   "outputs": [],
   "source": [
    "import pandas as pd\n",
    "from sklearn.feature_extraction.text import TfidfVectorizer\n",
    "from sklearn.metrics.pairwise import cosine_similarity\n",
    "from surprise import Reader, Dataset, SVD\n",
    "from surprise.model_selection import train_test_split\n",
    "from surprise.accuracy import rmse"
   ]
  },
  {
   "cell_type": "markdown",
   "id": "bbcb8542",
   "metadata": {},
   "source": [
    "# 1. Data Reading and Aggregation"
   ]
  },
  {
   "cell_type": "code",
   "execution_count": 2,
   "id": "47028ed5",
   "metadata": {},
   "outputs": [],
   "source": [
    "file_path = 'Hybrid_Reco_Videos_Data.xlsx'\n",
    "\n",
    "video_df = pd.read_excel(file_path, sheet_name=\"videos' info\")\n",
    "rate_data = pd.read_excel(file_path, sheet_name=\"filtered_rate_data\")\n",
    "user_fav = pd.read_excel(file_path, sheet_name=\"user_favorite_videos\")\n",
    "\n",
    "# Rating aggregation: average score and number of raters for each video\n",
    "video_ratings = (\n",
    "    rate_data.groupby('video_id')\n",
    "    .agg(avg_rating=('rating_score', 'mean'),\n",
    "         num_ratings=('rating_score', 'count'))\n",
    "    .reset_index()\n",
    ")\n",
    "\n",
    "# Merging video metadata\n",
    "video_popularity = video_ratings.merge(video_df[['video_id', 'title', 'specialities']], on='video_id', how='left')"
   ]
  },
  {
   "cell_type": "markdown",
   "id": "3a537821",
   "metadata": {},
   "source": [
    "# 2. Popularity Recommendation Module"
   ]
  },
  {
   "cell_type": "markdown",
   "id": "8e6a7080",
   "metadata": {},
   "source": [
    "### Function Objective: \n",
    "Based on the user's rating records of the videos, filter out the videos with ratings greater than a certain threshold from the full amount of videos, and sort them by average rating and number of raters, and return the top N most popular videos.\n",
    "### Steps:"
   ]
  },
  {
   "cell_type": "raw",
   "id": "fb4455af",
   "metadata": {},
   "source": [
    "1️⃣ Function Definition and Parameters \n",
    "2️⃣ Video Filtering: filter by number of raters \n",
    "3️⃣ Sorting Logic: average ratings are first, number of raters are second best \n",
    "4️⃣ Returns Top-N Recommended Results"
   ]
  },
  {
   "cell_type": "code",
   "execution_count": 3,
   "id": "bdd53fcc",
   "metadata": {},
   "outputs": [],
   "source": [
    "def get_top_popular_videos(video_popularity, n=10, min_ratings=5):\n",
    "    filtered = video_popularity[video_popularity['num_ratings'] >= min_ratings]\n",
    "    ranked = filtered.sort_values(['avg_rating', 'num_ratings'], ascending=[False, False])\n",
    "    return ranked[['video_id', 'title', 'avg_rating', 'num_ratings']].head(n)\n"
   ]
  },
  {
   "cell_type": "code",
   "execution_count": 4,
   "id": "c7deb38b",
   "metadata": {},
   "outputs": [
    {
     "name": "stdout",
     "output_type": "stream",
     "text": [
      "Top N Most Popular Videos by Average Rating and Number of Ratings:\n"
     ]
    },
    {
     "data": {
      "text/html": [
       "<div>\n",
       "<style scoped>\n",
       "    .dataframe tbody tr th:only-of-type {\n",
       "        vertical-align: middle;\n",
       "    }\n",
       "\n",
       "    .dataframe tbody tr th {\n",
       "        vertical-align: top;\n",
       "    }\n",
       "\n",
       "    .dataframe thead th {\n",
       "        text-align: right;\n",
       "    }\n",
       "</style>\n",
       "<table border=\"1\" class=\"dataframe\">\n",
       "  <thead>\n",
       "    <tr style=\"text-align: right;\">\n",
       "      <th></th>\n",
       "      <th>video_id</th>\n",
       "      <th>title</th>\n",
       "      <th>avg_rating</th>\n",
       "      <th>num_ratings</th>\n",
       "    </tr>\n",
       "  </thead>\n",
       "  <tbody>\n",
       "    <tr>\n",
       "      <th>2537</th>\n",
       "      <td>42505</td>\n",
       "      <td>Cardio Training Video #42505</td>\n",
       "      <td>4.720000</td>\n",
       "      <td>5</td>\n",
       "    </tr>\n",
       "    <tr>\n",
       "      <th>1245</th>\n",
       "      <td>20905</td>\n",
       "      <td>Weight Loss Training Video #20905</td>\n",
       "      <td>4.460000</td>\n",
       "      <td>5</td>\n",
       "    </tr>\n",
       "    <tr>\n",
       "      <th>4568</th>\n",
       "      <td>76102</td>\n",
       "      <td>Powerlifting Training Video #76102</td>\n",
       "      <td>4.380000</td>\n",
       "      <td>5</td>\n",
       "    </tr>\n",
       "    <tr>\n",
       "      <th>4958</th>\n",
       "      <td>82210</td>\n",
       "      <td>Pilates Training Video #82210</td>\n",
       "      <td>4.380000</td>\n",
       "      <td>5</td>\n",
       "    </tr>\n",
       "    <tr>\n",
       "      <th>3948</th>\n",
       "      <td>65804</td>\n",
       "      <td>Rehabilitation Training Video #65804</td>\n",
       "      <td>4.340000</td>\n",
       "      <td>5</td>\n",
       "    </tr>\n",
       "    <tr>\n",
       "      <th>233</th>\n",
       "      <td>4007</td>\n",
       "      <td>Flexibility Training Video #4007</td>\n",
       "      <td>4.320000</td>\n",
       "      <td>5</td>\n",
       "    </tr>\n",
       "    <tr>\n",
       "      <th>252</th>\n",
       "      <td>4304</td>\n",
       "      <td>Pilates Training Video #4304</td>\n",
       "      <td>4.300000</td>\n",
       "      <td>5</td>\n",
       "    </tr>\n",
       "    <tr>\n",
       "      <th>2137</th>\n",
       "      <td>35805</td>\n",
       "      <td>Strength Training Training Video #35805</td>\n",
       "      <td>4.285714</td>\n",
       "      <td>7</td>\n",
       "    </tr>\n",
       "    <tr>\n",
       "      <th>1617</th>\n",
       "      <td>27009</td>\n",
       "      <td>Rehabilitation Training Video #27009</td>\n",
       "      <td>4.280000</td>\n",
       "      <td>5</td>\n",
       "    </tr>\n",
       "    <tr>\n",
       "      <th>175</th>\n",
       "      <td>3006</td>\n",
       "      <td>CrossFit Training Video #3006</td>\n",
       "      <td>4.260000</td>\n",
       "      <td>5</td>\n",
       "    </tr>\n",
       "  </tbody>\n",
       "</table>\n",
       "</div>"
      ],
      "text/plain": [
       "      video_id                                    title  avg_rating  \\\n",
       "2537     42505             Cardio Training Video #42505    4.720000   \n",
       "1245     20905        Weight Loss Training Video #20905    4.460000   \n",
       "4568     76102       Powerlifting Training Video #76102    4.380000   \n",
       "4958     82210            Pilates Training Video #82210    4.380000   \n",
       "3948     65804     Rehabilitation Training Video #65804    4.340000   \n",
       "233       4007         Flexibility Training Video #4007    4.320000   \n",
       "252       4304             Pilates Training Video #4304    4.300000   \n",
       "2137     35805  Strength Training Training Video #35805    4.285714   \n",
       "1617     27009     Rehabilitation Training Video #27009    4.280000   \n",
       "175       3006            CrossFit Training Video #3006    4.260000   \n",
       "\n",
       "      num_ratings  \n",
       "2537            5  \n",
       "1245            5  \n",
       "4568            5  \n",
       "4958            5  \n",
       "3948            5  \n",
       "233             5  \n",
       "252             5  \n",
       "2137            7  \n",
       "1617            5  \n",
       "175             5  "
      ]
     },
     "metadata": {},
     "output_type": "display_data"
    }
   ],
   "source": [
    "# Get Top N Popularity Recommended Videos\n",
    "top_popular = get_top_popular_videos(video_popularity, n=10, min_ratings=5)\n",
    "\n",
    "print(\"Top N Most Popular Videos by Average Rating and Number of Ratings:\")\n",
    "display(top_popular)"
   ]
  },
  {
   "cell_type": "markdown",
   "id": "8b2d286a",
   "metadata": {},
   "source": [
    "# 3. Content-Based Recommendation Module"
   ]
  },
  {
   "cell_type": "markdown",
   "id": "af0dedaa",
   "metadata": {},
   "source": [
    "### Tagged Text Vectorisation (TF-IDF) \n",
    "### Steps:"
   ]
  },
  {
   "cell_type": "raw",
   "id": "b03129df",
   "metadata": {},
   "source": [
    "1️⃣ Missing value handling \n",
    "2️⃣ Constructing the TF-IDF vectoriser \n",
    "3️⃣ Generating the TF-IDF matrix \n",
    "4️⃣ Creating the title-to-index mapping"
   ]
  },
  {
   "cell_type": "code",
   "execution_count": 5,
   "id": "a1cb2389",
   "metadata": {},
   "outputs": [],
   "source": [
    "video_df['specialities'] = video_df['specialities'].fillna('')\n",
    "vectorizer = TfidfVectorizer(token_pattern=r\"[^|]+\")\n",
    "tfidf_matrix = vectorizer.fit_transform(video_df['specialities'])\n",
    "indices = pd.Series(video_df.index, index=video_df['title']).drop_duplicates()"
   ]
  },
  {
   "cell_type": "markdown",
   "id": "d6c3445f",
   "metadata": {},
   "source": [
    "### Function of Content-Based Top-N similar video recommendations"
   ]
  },
  {
   "cell_type": "markdown",
   "id": "c7f06506",
   "metadata": {},
   "source": [
    "Based on the tagged features (specialities) of the video that the user is currently interested in, the TF-IDF vector and cosine similarity are used to find the most similar other videos and the top n recommendations are output.\n",
    "### Steps:"
   ]
  },
  {
   "cell_type": "raw",
   "id": "45cf9889",
   "metadata": {},
   "source": [
    "1️⃣ Input validity checking \n",
    "2️⃣ Get video index \n",
    "3️⃣ Calculate similarity between videos \n",
    "4️⃣ Similarity tabulation and sorting \n",
    "5️⃣ Eliminate own videos and take Top-N \n",
    "6️⃣ Extract the recommended videos' information and construct output table"
   ]
  },
  {
   "cell_type": "code",
   "execution_count": 6,
   "id": "c252e5a8",
   "metadata": {},
   "outputs": [],
   "source": [
    "def get_content_based_recommendations(title, n=10):\n",
    "    if title not in indices:\n",
    "        return pd.DataFrame()\n",
    "    idx = indices[title]\n",
    "    sim_scores = cosine_similarity(tfidf_matrix[idx], tfidf_matrix).flatten()\n",
    "    sim_scores = list(enumerate(sim_scores))\n",
    "    sim_scores = sorted(sim_scores, key=lambda x: x[1], reverse=True)\n",
    "    sim_scores = [s for s in sim_scores if s[0] != idx][:n]\n",
    "    video_indices = [i[0] for i in sim_scores]\n",
    "    result = video_df.iloc[video_indices][['video_id', 'title', 'specialities']].copy()\n",
    "    result['score'] = [s[1] for s in sim_scores]\n",
    "    return result"
   ]
  },
  {
   "cell_type": "markdown",
   "id": "115698fa",
   "metadata": {},
   "source": [
    "### Sample Output"
   ]
  },
  {
   "cell_type": "code",
   "execution_count": 7,
   "id": "e6beaa65",
   "metadata": {},
   "outputs": [
    {
     "name": "stdout",
     "output_type": "stream",
     "text": [
      "Top 100 Content-Based Recommendations for 'Yoga Training Video #101':\n"
     ]
    },
    {
     "data": {
      "text/html": [
       "<div>\n",
       "<style scoped>\n",
       "    .dataframe tbody tr th:only-of-type {\n",
       "        vertical-align: middle;\n",
       "    }\n",
       "\n",
       "    .dataframe tbody tr th {\n",
       "        vertical-align: top;\n",
       "    }\n",
       "\n",
       "    .dataframe thead th {\n",
       "        text-align: right;\n",
       "    }\n",
       "</style>\n",
       "<table border=\"1\" class=\"dataframe\">\n",
       "  <thead>\n",
       "    <tr style=\"text-align: right;\">\n",
       "      <th></th>\n",
       "      <th>video_id</th>\n",
       "      <th>title</th>\n",
       "      <th>score</th>\n",
       "    </tr>\n",
       "  </thead>\n",
       "  <tbody>\n",
       "    <tr>\n",
       "      <th>25</th>\n",
       "      <td>306</td>\n",
       "      <td>Yoga Training Video #306</td>\n",
       "      <td>1.00000</td>\n",
       "    </tr>\n",
       "    <tr>\n",
       "      <th>112</th>\n",
       "      <td>1203</td>\n",
       "      <td>Yoga Training Video #1203</td>\n",
       "      <td>1.00000</td>\n",
       "    </tr>\n",
       "    <tr>\n",
       "      <th>191</th>\n",
       "      <td>2002</td>\n",
       "      <td>Yoga Training Video #2002</td>\n",
       "      <td>1.00000</td>\n",
       "    </tr>\n",
       "    <tr>\n",
       "      <th>872</th>\n",
       "      <td>8803</td>\n",
       "      <td>Yoga Training Video #8803</td>\n",
       "      <td>1.00000</td>\n",
       "    </tr>\n",
       "    <tr>\n",
       "      <th>878</th>\n",
       "      <td>8809</td>\n",
       "      <td>Yoga Training Video #8809</td>\n",
       "      <td>1.00000</td>\n",
       "    </tr>\n",
       "    <tr>\n",
       "      <th>...</th>\n",
       "      <td>...</td>\n",
       "      <td>...</td>\n",
       "      <td>...</td>\n",
       "    </tr>\n",
       "    <tr>\n",
       "      <th>110</th>\n",
       "      <td>1201</td>\n",
       "      <td>Yoga Training Video #1201</td>\n",
       "      <td>0.81344</td>\n",
       "    </tr>\n",
       "    <tr>\n",
       "      <th>1778</th>\n",
       "      <td>17809</td>\n",
       "      <td>Flexibility Training Video #17809</td>\n",
       "      <td>0.81344</td>\n",
       "    </tr>\n",
       "    <tr>\n",
       "      <th>4663</th>\n",
       "      <td>46704</td>\n",
       "      <td>Rehabilitation Training Video #46704</td>\n",
       "      <td>0.81344</td>\n",
       "    </tr>\n",
       "    <tr>\n",
       "      <th>6528</th>\n",
       "      <td>65309</td>\n",
       "      <td>Flexibility Training Video #65309</td>\n",
       "      <td>0.81344</td>\n",
       "    </tr>\n",
       "    <tr>\n",
       "      <th>8355</th>\n",
       "      <td>83606</td>\n",
       "      <td>Rehabilitation Training Video #83606</td>\n",
       "      <td>0.81344</td>\n",
       "    </tr>\n",
       "  </tbody>\n",
       "</table>\n",
       "<p>100 rows × 3 columns</p>\n",
       "</div>"
      ],
      "text/plain": [
       "      video_id                                 title    score\n",
       "25         306              Yoga Training Video #306  1.00000\n",
       "112       1203             Yoga Training Video #1203  1.00000\n",
       "191       2002             Yoga Training Video #2002  1.00000\n",
       "872       8803             Yoga Training Video #8803  1.00000\n",
       "878       8809             Yoga Training Video #8809  1.00000\n",
       "...        ...                                   ...      ...\n",
       "110       1201             Yoga Training Video #1201  0.81344\n",
       "1778     17809     Flexibility Training Video #17809  0.81344\n",
       "4663     46704  Rehabilitation Training Video #46704  0.81344\n",
       "6528     65309     Flexibility Training Video #65309  0.81344\n",
       "8355     83606  Rehabilitation Training Video #83606  0.81344\n",
       "\n",
       "[100 rows x 3 columns]"
      ]
     },
     "metadata": {},
     "output_type": "display_data"
    }
   ],
   "source": [
    "content_title = \"Yoga Training Video #101\"\n",
    "result = get_content_based_recommendations(content_title, n=100)\n",
    "\n",
    "print(f\"Top {len(result)} Content-Based Recommendations for '{content_title}':\")\n",
    "display(result[['video_id', 'title', 'score']])"
   ]
  },
  {
   "cell_type": "code",
   "execution_count": 8,
   "id": "e4c20dd1",
   "metadata": {},
   "outputs": [
    {
     "name": "stdout",
     "output_type": "stream",
     "text": [
      "Top 100 Content-Based Recommendations for 'Sports-Specific Training Video #46601':\n"
     ]
    },
    {
     "data": {
      "text/html": [
       "<div>\n",
       "<style scoped>\n",
       "    .dataframe tbody tr th:only-of-type {\n",
       "        vertical-align: middle;\n",
       "    }\n",
       "\n",
       "    .dataframe tbody tr th {\n",
       "        vertical-align: top;\n",
       "    }\n",
       "\n",
       "    .dataframe thead th {\n",
       "        text-align: right;\n",
       "    }\n",
       "</style>\n",
       "<table border=\"1\" class=\"dataframe\">\n",
       "  <thead>\n",
       "    <tr style=\"text-align: right;\">\n",
       "      <th></th>\n",
       "      <th>video_id</th>\n",
       "      <th>title</th>\n",
       "      <th>score</th>\n",
       "    </tr>\n",
       "  </thead>\n",
       "  <tbody>\n",
       "    <tr>\n",
       "      <th>45</th>\n",
       "      <td>506</td>\n",
       "      <td>Bodybuilding Training Video #506</td>\n",
       "      <td>1.00000</td>\n",
       "    </tr>\n",
       "    <tr>\n",
       "      <th>406</th>\n",
       "      <td>4107</td>\n",
       "      <td>Bodybuilding Training Video #4107</td>\n",
       "      <td>1.00000</td>\n",
       "    </tr>\n",
       "    <tr>\n",
       "      <th>630</th>\n",
       "      <td>6401</td>\n",
       "      <td>Bodybuilding Training Video #6401</td>\n",
       "      <td>1.00000</td>\n",
       "    </tr>\n",
       "    <tr>\n",
       "      <th>633</th>\n",
       "      <td>6404</td>\n",
       "      <td>Bodybuilding Training Video #6404</td>\n",
       "      <td>1.00000</td>\n",
       "    </tr>\n",
       "    <tr>\n",
       "      <th>1139</th>\n",
       "      <td>11410</td>\n",
       "      <td>Sports-Specific Training Video #11410</td>\n",
       "      <td>1.00000</td>\n",
       "    </tr>\n",
       "    <tr>\n",
       "      <th>...</th>\n",
       "      <td>...</td>\n",
       "      <td>...</td>\n",
       "      <td>...</td>\n",
       "    </tr>\n",
       "    <tr>\n",
       "      <th>1896</th>\n",
       "      <td>19007</td>\n",
       "      <td>Sports-Specific Training Video #19007</td>\n",
       "      <td>0.81647</td>\n",
       "    </tr>\n",
       "    <tr>\n",
       "      <th>2160</th>\n",
       "      <td>21701</td>\n",
       "      <td>CrossFit Training Video #21701</td>\n",
       "      <td>0.81647</td>\n",
       "    </tr>\n",
       "    <tr>\n",
       "      <th>2873</th>\n",
       "      <td>28804</td>\n",
       "      <td>CrossFit Training Video #28804</td>\n",
       "      <td>0.81647</td>\n",
       "    </tr>\n",
       "    <tr>\n",
       "      <th>4860</th>\n",
       "      <td>48701</td>\n",
       "      <td>Bodybuilding Training Video #48701</td>\n",
       "      <td>0.81647</td>\n",
       "    </tr>\n",
       "    <tr>\n",
       "      <th>6200</th>\n",
       "      <td>62101</td>\n",
       "      <td>CrossFit Training Video #62101</td>\n",
       "      <td>0.81647</td>\n",
       "    </tr>\n",
       "  </tbody>\n",
       "</table>\n",
       "<p>100 rows × 3 columns</p>\n",
       "</div>"
      ],
      "text/plain": [
       "      video_id                                  title    score\n",
       "45         506       Bodybuilding Training Video #506  1.00000\n",
       "406       4107      Bodybuilding Training Video #4107  1.00000\n",
       "630       6401      Bodybuilding Training Video #6401  1.00000\n",
       "633       6404      Bodybuilding Training Video #6404  1.00000\n",
       "1139     11410  Sports-Specific Training Video #11410  1.00000\n",
       "...        ...                                    ...      ...\n",
       "1896     19007  Sports-Specific Training Video #19007  0.81647\n",
       "2160     21701         CrossFit Training Video #21701  0.81647\n",
       "2873     28804         CrossFit Training Video #28804  0.81647\n",
       "4860     48701     Bodybuilding Training Video #48701  0.81647\n",
       "6200     62101         CrossFit Training Video #62101  0.81647\n",
       "\n",
       "[100 rows x 3 columns]"
      ]
     },
     "metadata": {},
     "output_type": "display_data"
    }
   ],
   "source": [
    "content_title = \"Sports-Specific Training Video #46601\"\n",
    "result = get_content_based_recommendations(content_title, n=100)\n",
    "\n",
    "print(f\"Top {len(result)} Content-Based Recommendations for '{content_title}':\")\n",
    "display(result[['video_id', 'title', 'score']])"
   ]
  },
  {
   "cell_type": "markdown",
   "id": "8df5a85e",
   "metadata": {},
   "source": [
    "# 4. Collaborative Filtering Module"
   ]
  },
  {
   "cell_type": "markdown",
   "id": "d46ea186",
   "metadata": {},
   "source": [
    "### SVD method based on matrix decomposition "
   ]
  },
  {
   "cell_type": "code",
   "execution_count": 9,
   "id": "9527ac2c",
   "metadata": {},
   "outputs": [
    {
     "data": {
      "text/plain": [
       "<surprise.prediction_algorithms.matrix_factorization.SVD at 0x2015aed8df0>"
      ]
     },
     "execution_count": 9,
     "metadata": {},
     "output_type": "execute_result"
    }
   ],
   "source": [
    "data_df = rate_data[['user_id', 'video_id', 'rating_score']].copy()\n",
    "\n",
    "# Surprise format\n",
    "reader = Reader(rating_scale=(data_df['rating_score'].min(), data_df['rating_score'].max()))\n",
    "data = Dataset.load_from_df(data_df, reader)\n",
    "# Model training\n",
    "trainset, testset = train_test_split(data, test_size=0.2, random_state=42)\n",
    "svd = SVD(random_state=42)\n",
    "svd.fit(trainset)"
   ]
  },
  {
   "cell_type": "markdown",
   "id": "416ded46",
   "metadata": {},
   "source": [
    "### Top-N recommendation function implementation\n",
    "\n",
    "It generates a personalised list of video recommendations for a single user based on SVD model"
   ]
  },
  {
   "cell_type": "markdown",
   "id": "7fdc4b2f",
   "metadata": {},
   "source": [
    "### Function Objective: \n",
    "For a given user user_id, predict his/her rating for unwatched videos and return the top n recommended videos sorted by predicted score.\n",
    "\n",
    "### Steps:"
   ]
  },
  {
   "cell_type": "raw",
   "id": "5f58490a",
   "metadata": {},
   "source": [
    "1️⃣ Define the function with input parameters \n",
    "2️⃣ Get user's viewing history and set of candidate videos \n",
    "3️⃣ Score Prediction (Core Logic) \n",
    "4️⃣ Recommendation List Sorting and Top-N Selection \n",
    "5️⃣ Construct the Recommendation Results Table"
   ]
  },
  {
   "cell_type": "code",
   "execution_count": 10,
   "id": "e068c5b7",
   "metadata": {},
   "outputs": [],
   "source": [
    "def get_collaborative_video_recommendations(user_id, n=10):\n",
    "    all_videos = set(rate_data['video_id'].unique())\n",
    "    seen_videos = set(rate_data[rate_data['user_id'] == user_id]['video_id'].values)\n",
    "    unseen_videos = list(all_videos - seen_videos)\n",
    "    if len(unseen_videos) == 0:\n",
    "        return pd.DataFrame()\n",
    "    predictions = [(vid, svd.predict(user_id, vid).est) for vid in unseen_videos]\n",
    "    recommendations = sorted(predictions, key=lambda x: x[1], reverse=True)[:n]\n",
    "    result = pd.DataFrame(recommendations, columns=['video_id', 'predicted_rating'])\n",
    "    result = result.merge(video_df[['video_id', 'title']], on='video_id', how='left')\n",
    "    result['score'] = result['predicted_rating']\n",
    "    return result[['video_id', 'title', 'score']]"
   ]
  },
  {
   "cell_type": "markdown",
   "id": "f0400c83",
   "metadata": {},
   "source": [
    "### Sample Output"
   ]
  },
  {
   "cell_type": "code",
   "execution_count": 11,
   "id": "9e1a96bc",
   "metadata": {},
   "outputs": [
    {
     "name": "stdout",
     "output_type": "stream",
     "text": [
      "Top 10 Collaborative Filtering Recommendations for User 'U0435':\n"
     ]
    },
    {
     "data": {
      "text/html": [
       "<div>\n",
       "<style scoped>\n",
       "    .dataframe tbody tr th:only-of-type {\n",
       "        vertical-align: middle;\n",
       "    }\n",
       "\n",
       "    .dataframe tbody tr th {\n",
       "        vertical-align: top;\n",
       "    }\n",
       "\n",
       "    .dataframe thead th {\n",
       "        text-align: right;\n",
       "    }\n",
       "</style>\n",
       "<table border=\"1\" class=\"dataframe\">\n",
       "  <thead>\n",
       "    <tr style=\"text-align: right;\">\n",
       "      <th></th>\n",
       "      <th>video_id</th>\n",
       "      <th>title</th>\n",
       "      <th>score</th>\n",
       "    </tr>\n",
       "  </thead>\n",
       "  <tbody>\n",
       "    <tr>\n",
       "      <th>0</th>\n",
       "      <td>42505</td>\n",
       "      <td>Cardio Training Video #42505</td>\n",
       "      <td>4.183276</td>\n",
       "    </tr>\n",
       "    <tr>\n",
       "      <th>1</th>\n",
       "      <td>3006</td>\n",
       "      <td>CrossFit Training Video #3006</td>\n",
       "      <td>4.132660</td>\n",
       "    </tr>\n",
       "    <tr>\n",
       "      <th>2</th>\n",
       "      <td>28303</td>\n",
       "      <td>HIIT Training Video #28303</td>\n",
       "      <td>4.131339</td>\n",
       "    </tr>\n",
       "    <tr>\n",
       "      <th>3</th>\n",
       "      <td>16202</td>\n",
       "      <td>Strength Training Training Video #16202</td>\n",
       "      <td>4.123423</td>\n",
       "    </tr>\n",
       "    <tr>\n",
       "      <th>4</th>\n",
       "      <td>76102</td>\n",
       "      <td>Powerlifting Training Video #76102</td>\n",
       "      <td>4.118227</td>\n",
       "    </tr>\n",
       "    <tr>\n",
       "      <th>5</th>\n",
       "      <td>66105</td>\n",
       "      <td>Pilates Training Video #66105</td>\n",
       "      <td>4.107672</td>\n",
       "    </tr>\n",
       "    <tr>\n",
       "      <th>6</th>\n",
       "      <td>20905</td>\n",
       "      <td>Weight Loss Training Video #20905</td>\n",
       "      <td>4.105511</td>\n",
       "    </tr>\n",
       "    <tr>\n",
       "      <th>7</th>\n",
       "      <td>75206</td>\n",
       "      <td>Powerlifting Training Video #75206</td>\n",
       "      <td>4.098392</td>\n",
       "    </tr>\n",
       "    <tr>\n",
       "      <th>8</th>\n",
       "      <td>61309</td>\n",
       "      <td>Prenatal Fitness Training Video #61309</td>\n",
       "      <td>4.086171</td>\n",
       "    </tr>\n",
       "    <tr>\n",
       "      <th>9</th>\n",
       "      <td>7110</td>\n",
       "      <td>Sports-Specific Training Video #7110</td>\n",
       "      <td>4.082703</td>\n",
       "    </tr>\n",
       "  </tbody>\n",
       "</table>\n",
       "</div>"
      ],
      "text/plain": [
       "   video_id                                    title     score\n",
       "0     42505             Cardio Training Video #42505  4.183276\n",
       "1      3006            CrossFit Training Video #3006  4.132660\n",
       "2     28303               HIIT Training Video #28303  4.131339\n",
       "3     16202  Strength Training Training Video #16202  4.123423\n",
       "4     76102       Powerlifting Training Video #76102  4.118227\n",
       "5     66105            Pilates Training Video #66105  4.107672\n",
       "6     20905        Weight Loss Training Video #20905  4.105511\n",
       "7     75206       Powerlifting Training Video #75206  4.098392\n",
       "8     61309   Prenatal Fitness Training Video #61309  4.086171\n",
       "9      7110     Sports-Specific Training Video #7110  4.082703"
      ]
     },
     "metadata": {},
     "output_type": "display_data"
    }
   ],
   "source": [
    "user_id = 'U0435'\n",
    "collab_results = get_collaborative_video_recommendations(user_id, n=10)\n",
    "\n",
    "print(f\"Top {len(collab_results)} Collaborative Filtering Recommendations for User '{user_id}':\")\n",
    "display(collab_results[['video_id', 'title', 'score']])\n"
   ]
  },
  {
   "cell_type": "markdown",
   "id": "4f0f15db",
   "metadata": {},
   "source": [
    "### Evaluation"
   ]
  },
  {
   "cell_type": "code",
   "execution_count": 12,
   "id": "44fdff17",
   "metadata": {},
   "outputs": [
    {
     "name": "stdout",
     "output_type": "stream",
     "text": [
      "RMSE: 0.9639\n",
      "MAE:  0.7817\n"
     ]
    }
   ],
   "source": [
    "from surprise import accuracy\n",
    "\n",
    "predictions = svd.test(testset)\n",
    "\n",
    "rmse_score = accuracy.rmse(predictions, verbose=True)  \n",
    "mae_score = accuracy.mae(predictions, verbose=True)    "
   ]
  },
  {
   "cell_type": "markdown",
   "id": "391167da",
   "metadata": {},
   "source": [
    "# Hierarchical Weighted Hybrid Recommendations: Automatic Cold Start Triage + Weight Fusion "
   ]
  },
  {
   "cell_type": "markdown",
   "id": "db7e4aff",
   "metadata": {},
   "source": [
    "Combines Popularity, Collaborative Filtering, and Content-Based recommendations with cold-start fallback logic."
   ]
  },
  {
   "cell_type": "markdown",
   "id": "197490a8",
   "metadata": {},
   "source": [
    "### Normalisation tool function \n",
    "Ensure that the three types of recommendation scores are comparable when fused."
   ]
  },
  {
   "cell_type": "code",
   "execution_count": 13,
   "id": "4582375c",
   "metadata": {},
   "outputs": [],
   "source": [
    "def minmax_normalize(series):\n",
    "    return (series - series.min()) / (series.max() - series.min() + 1e-8)"
   ]
  },
  {
   "cell_type": "markdown",
   "id": "5b16e15d",
   "metadata": {},
   "source": [
    "### Weighted hybrid recommendation function"
   ]
  },
  {
   "cell_type": "code",
   "execution_count": 28,
   "id": "d873ee93",
   "metadata": {},
   "outputs": [],
   "source": [
    "import pandas as pd\n",
    "import numpy as np\n",
    "\n",
    "def minmax_normalize(series):\n",
    "    return (series - series.min()) / (series.max() - series.min() + 1e-8)\n",
    "\n",
    "def safe_fill(df, col):\n",
    "    if col not in df.columns:\n",
    "        df[col] = 0\n",
    "    return df\n",
    "\n",
    "def hybrid_with_fallback(\n",
    "        user_id,\n",
    "        video_popularity, video_df, favorite_df,\n",
    "        popularity_weight=0.33, content_weight=0.33, collaborative_weight=0.33, n=10):\n",
    "    # Find user's favorite video title\n",
    "    fav_row = favorite_df.loc[favorite_df['user_id'] == user_id, 'favorite_title']\n",
    "    user_favorite_title = fav_row.values[0] if not fav_row.empty and pd.notna(fav_row.values[0]) else None\n",
    "\n",
    "    # Determine whether the user has rating history\n",
    "    user_has_history = user_id in rate_data['user_id'].unique()\n",
    "\n",
    "    # --- Popularity-Based Module ---\n",
    "    popular_videos = get_top_popular_videos(video_popularity, n*10)[['video_id', 'title', 'avg_rating']]\n",
    "    popular_videos['popularity_score'] = minmax_normalize(popular_videos['avg_rating'])\n",
    "    popular_videos = safe_fill(popular_videos, 'popularity_score')\n",
    "\n",
    "    # Cold-start fallback: users with no history only get popularity-based recommendations\n",
    "    if not user_has_history:\n",
    "        popular_videos['hybrid_score'] = popular_videos['popularity_score'] * popularity_weight\n",
    "        popular_videos = popular_videos.sort_values('hybrid_score', ascending=False).head(n).reset_index(drop=True)\n",
    "        # Ensure all score columns are present for merging in subsequent steps\n",
    "        popular_videos = safe_fill(popular_videos, 'collab_score')\n",
    "        popular_videos = safe_fill(popular_videos, 'content_score')\n",
    "        return popular_videos[['video_id', 'title', 'hybrid_score', 'popularity_score', 'collab_score', 'content_score']]\n",
    "\n",
    "    # --- Collaborative Filtering Module ---\n",
    "    collaborative_recs = get_collaborative_video_recommendations(user_id, n*10)[['video_id', 'title', 'score']].copy()\n",
    "    if collaborative_recs.empty:\n",
    "        collaborative_recs['collab_score'] = 0\n",
    "    else:\n",
    "        collaborative_recs['collab_score'] = minmax_normalize(collaborative_recs['score'])\n",
    "    collaborative_recs = safe_fill(collaborative_recs, 'collab_score')\n",
    "\n",
    "    # --- Content-Based Module ---\n",
    "    content_recs = pd.DataFrame()\n",
    "    if user_favorite_title and user_favorite_title in indices:\n",
    "        content_recs = get_content_based_recommendations(user_favorite_title, n*10)[['video_id', 'title', 'score']].copy()\n",
    "        if not content_recs.empty:\n",
    "            content_recs['content_score'] = minmax_normalize(content_recs['score'])\n",
    "        else:\n",
    "            content_recs['content_score'] = 0\n",
    "    else:\n",
    "        # Explicitly return a correctly structured empty DataFrame to avoid errors in subsequent steps\n",
    "        content_recs = pd.DataFrame(columns=['video_id', 'title', 'content_score'])\n",
    "    content_recs = safe_fill(content_recs, 'content_score')\n",
    "\n",
    "    # --- Merge three types of recommendation results ---\n",
    "    merged = pd.concat([\n",
    "        popular_videos[['video_id', 'title', 'popularity_score']],\n",
    "        collaborative_recs[['video_id', 'title', 'collab_score']],\n",
    "        content_recs[['video_id', 'title', 'content_score']]\n",
    "    ], ignore_index=True).fillna(0).infer_objects()\n",
    "\n",
    "    # Remove duplicates and aggregate to avoid multiple scores for the same video_id\n",
    "    final = merged.groupby(['video_id', 'title'], as_index=False).agg({\n",
    "        'popularity_score': 'max',\n",
    "        'collab_score': 'max',\n",
    "        'content_score': 'max'\n",
    "    }).fillna(0)\n",
    "\n",
    "    # Calculate the final hybrid score\n",
    "    final['hybrid_score'] = (\n",
    "        final['popularity_score'] * popularity_weight +\n",
    "        final['collab_score'] * collaborative_weight +\n",
    "        final['content_score'] * content_weight\n",
    "    )\n",
    "\n",
    "    # Output Top-N\n",
    "    final = final.sort_values('hybrid_score', ascending=False).head(n).reset_index(drop=True)\n",
    "    # Ensure output column order is complete and correct\n",
    "    return final[['video_id', 'title', 'hybrid_score', 'popularity_score', 'collab_score', 'content_score']]\n"
   ]
  },
  {
   "cell_type": "markdown",
   "id": "f3edc9f9",
   "metadata": {},
   "source": [
    "### Sample Output"
   ]
  },
  {
   "cell_type": "code",
   "execution_count": 29,
   "id": "16a8be23",
   "metadata": {},
   "outputs": [
    {
     "data": {
      "text/html": [
       "<div>\n",
       "<style scoped>\n",
       "    .dataframe tbody tr th:only-of-type {\n",
       "        vertical-align: middle;\n",
       "    }\n",
       "\n",
       "    .dataframe tbody tr th {\n",
       "        vertical-align: top;\n",
       "    }\n",
       "\n",
       "    .dataframe thead th {\n",
       "        text-align: right;\n",
       "    }\n",
       "</style>\n",
       "<table border=\"1\" class=\"dataframe\">\n",
       "  <thead>\n",
       "    <tr style=\"text-align: right;\">\n",
       "      <th></th>\n",
       "      <th>video_id</th>\n",
       "      <th>title</th>\n",
       "      <th>hybrid_score</th>\n",
       "      <th>popularity_score</th>\n",
       "      <th>collab_score</th>\n",
       "      <th>content_score</th>\n",
       "    </tr>\n",
       "  </thead>\n",
       "  <tbody>\n",
       "    <tr>\n",
       "      <th>0</th>\n",
       "      <td>42505</td>\n",
       "      <td>Cardio Training Video #42505</td>\n",
       "      <td>0.491059</td>\n",
       "      <td>1.00</td>\n",
       "      <td>0.488058</td>\n",
       "      <td>0.0</td>\n",
       "    </tr>\n",
       "    <tr>\n",
       "      <th>1</th>\n",
       "      <td>76102</td>\n",
       "      <td>Powerlifting Training Video #76102</td>\n",
       "      <td>0.474335</td>\n",
       "      <td>0.66</td>\n",
       "      <td>0.777378</td>\n",
       "      <td>0.0</td>\n",
       "    </tr>\n",
       "    <tr>\n",
       "      <th>2</th>\n",
       "      <td>90301</td>\n",
       "      <td>CrossFit Training Video #90301</td>\n",
       "      <td>0.409200</td>\n",
       "      <td>0.24</td>\n",
       "      <td>1.000000</td>\n",
       "      <td>0.0</td>\n",
       "    </tr>\n",
       "    <tr>\n",
       "      <th>3</th>\n",
       "      <td>27009</td>\n",
       "      <td>Rehabilitation Training Video #27009</td>\n",
       "      <td>0.373894</td>\n",
       "      <td>0.56</td>\n",
       "      <td>0.573013</td>\n",
       "      <td>0.0</td>\n",
       "    </tr>\n",
       "    <tr>\n",
       "      <th>4</th>\n",
       "      <td>65804</td>\n",
       "      <td>Rehabilitation Training Video #65804</td>\n",
       "      <td>0.350774</td>\n",
       "      <td>0.62</td>\n",
       "      <td>0.442952</td>\n",
       "      <td>0.0</td>\n",
       "    </tr>\n",
       "    <tr>\n",
       "      <th>5</th>\n",
       "      <td>3006</td>\n",
       "      <td>CrossFit Training Video #3006</td>\n",
       "      <td>0.347438</td>\n",
       "      <td>0.54</td>\n",
       "      <td>0.512842</td>\n",
       "      <td>0.0</td>\n",
       "    </tr>\n",
       "    <tr>\n",
       "      <th>6</th>\n",
       "      <td>15708</td>\n",
       "      <td>Bodybuilding Training Video #15708</td>\n",
       "      <td>0.330000</td>\n",
       "      <td>0.00</td>\n",
       "      <td>0.000000</td>\n",
       "      <td>1.0</td>\n",
       "    </tr>\n",
       "    <tr>\n",
       "      <th>7</th>\n",
       "      <td>409</td>\n",
       "      <td>Pilates Training Video #409</td>\n",
       "      <td>0.330000</td>\n",
       "      <td>0.00</td>\n",
       "      <td>0.000000</td>\n",
       "      <td>1.0</td>\n",
       "    </tr>\n",
       "    <tr>\n",
       "      <th>8</th>\n",
       "      <td>93804</td>\n",
       "      <td>Cardio Training Video #93804</td>\n",
       "      <td>0.330000</td>\n",
       "      <td>0.00</td>\n",
       "      <td>0.000000</td>\n",
       "      <td>1.0</td>\n",
       "    </tr>\n",
       "    <tr>\n",
       "      <th>9</th>\n",
       "      <td>31008</td>\n",
       "      <td>Bodybuilding Training Video #31008</td>\n",
       "      <td>0.330000</td>\n",
       "      <td>0.00</td>\n",
       "      <td>0.000000</td>\n",
       "      <td>1.0</td>\n",
       "    </tr>\n",
       "  </tbody>\n",
       "</table>\n",
       "</div>"
      ],
      "text/plain": [
       "   video_id                                 title  hybrid_score  \\\n",
       "0     42505          Cardio Training Video #42505      0.491059   \n",
       "1     76102    Powerlifting Training Video #76102      0.474335   \n",
       "2     90301        CrossFit Training Video #90301      0.409200   \n",
       "3     27009  Rehabilitation Training Video #27009      0.373894   \n",
       "4     65804  Rehabilitation Training Video #65804      0.350774   \n",
       "5      3006         CrossFit Training Video #3006      0.347438   \n",
       "6     15708    Bodybuilding Training Video #15708      0.330000   \n",
       "7       409           Pilates Training Video #409      0.330000   \n",
       "8     93804          Cardio Training Video #93804      0.330000   \n",
       "9     31008    Bodybuilding Training Video #31008      0.330000   \n",
       "\n",
       "   popularity_score  collab_score  content_score  \n",
       "0              1.00      0.488058            0.0  \n",
       "1              0.66      0.777378            0.0  \n",
       "2              0.24      1.000000            0.0  \n",
       "3              0.56      0.573013            0.0  \n",
       "4              0.62      0.442952            0.0  \n",
       "5              0.54      0.512842            0.0  \n",
       "6              0.00      0.000000            1.0  \n",
       "7              0.00      0.000000            1.0  \n",
       "8              0.00      0.000000            1.0  \n",
       "9              0.00      0.000000            1.0  "
      ]
     },
     "metadata": {},
     "output_type": "display_data"
    }
   ],
   "source": [
    "user_id = 'U0019'\n",
    "hybrid_results = hybrid_with_fallback(\n",
    "    user_id=user_id,\n",
    "    video_popularity=video_popularity,\n",
    "    video_df=video_df,\n",
    "    favorite_df=user_fav,    \n",
    "    popularity_weight=0.33,\n",
    "    content_weight=0.33,\n",
    "    collaborative_weight=0.33,\n",
    "    n=10\n",
    ")\n",
    "display(hybrid_results)\n"
   ]
  },
  {
   "cell_type": "code",
   "execution_count": null,
   "id": "ce8deea3",
   "metadata": {},
   "outputs": [],
   "source": []
  },
  {
   "cell_type": "code",
   "execution_count": null,
   "id": "ebd741c7",
   "metadata": {},
   "outputs": [],
   "source": []
  }
 ],
 "metadata": {
  "kernelspec": {
   "display_name": "Python (env)",
   "language": "python",
   "name": "ml_env"
  },
  "language_info": {
   "codemirror_mode": {
    "name": "ipython",
    "version": 3
   },
   "file_extension": ".py",
   "mimetype": "text/x-python",
   "name": "python",
   "nbconvert_exporter": "python",
   "pygments_lexer": "ipython3",
   "version": "3.10.16"
  }
 },
 "nbformat": 4,
 "nbformat_minor": 5
}
