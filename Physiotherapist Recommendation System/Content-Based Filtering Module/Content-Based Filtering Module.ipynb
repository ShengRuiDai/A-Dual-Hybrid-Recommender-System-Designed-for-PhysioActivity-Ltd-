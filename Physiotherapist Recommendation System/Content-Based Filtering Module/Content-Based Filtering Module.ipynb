{
 "cells": [
  {
   "cell_type": "code",
   "execution_count": 2,
   "id": "bf8126d8",
   "metadata": {},
   "outputs": [],
   "source": [
    "import pandas as pd\n",
    "\n",
    "file_path = 'Content_Reco.xlsx'\n",
    "user_df = pd.read_excel(file_path, sheet_name='user')\n",
    "physio_df = pd.read_excel(file_path, sheet_name='physio')"
   ]
  },
  {
   "cell_type": "markdown",
   "id": "f14ea2dc",
   "metadata": {},
   "source": [
    "# Content Matching"
   ]
  },
  {
   "cell_type": "markdown",
   "id": "dc892907",
   "metadata": {},
   "source": [
    "calculation logic"
   ]
  },
  {
   "cell_type": "markdown",
   "id": "1a0b5443",
   "metadata": {},
   "source": [
    "Select top50 matching trainers for each user based on match_score"
   ]
  },
  {
   "cell_type": "code",
   "execution_count": 3,
   "id": "2aede680",
   "metadata": {},
   "outputs": [
    {
     "data": {
      "text/plain": [
       "'user_top50_trainers_with_age.xlsx'"
      ]
     },
     "execution_count": 3,
     "metadata": {},
     "output_type": "execute_result"
    }
   ],
   "source": [
    "# Add temporary key for Cartesian product\n",
    "user_df['key'] = 1\n",
    "physio_df['key'] = 1\n",
    "full_df = pd.merge(user_df, physio_df, on='key').drop('key', axis=1)\n",
    "\n",
    "# Define specialties intersection score function\n",
    "def specialties_score(user_spec, trainer_spec):\n",
    "    user_set = set([s.strip().lower() for s in str(user_spec).split(',')])\n",
    "    trainer_set = set([s.strip().lower() for s in str(trainer_spec).split(',')])\n",
    "    n = len(user_set & trainer_set)\n",
    "    return min(n, 3)\n",
    "\n",
    "# Add age_group matching\n",
    "def compute_row_score(row):\n",
    "    score = 0\n",
    "    score += 1 if row['gender_x'] == row['gender_y'] else 0\n",
    "    score += 1 if row['city_x'] == row['city_y'] else 0\n",
    "    score += 1 if row['available_time_x'] == row['available_time_y'] else 0\n",
    "    score += specialties_score(row['preferred_specialties'], row['specialities'])\n",
    "    score += 1 if row['age_group'] == row['serve_age_group'] else 0  # newly added\n",
    "    return score\n",
    "\n",
    "# Batch score calculation (maximum 7 points)\n",
    "full_df['raw_score'] = full_df.apply(compute_row_score, axis=1)\n",
    "full_df['match_score'] = full_df['raw_score'] / 7.0\n",
    "\n",
    "# Extract and rename required fields\n",
    "result_df = full_df[[\n",
    "    'user_id', 'trainer_id', 'name', 'match_score', 'raw_score', 'specialities',\n",
    "    'city_y', 'gender_y', 'available_time_y', 'age_group', 'serve_age_group'\n",
    "]].rename(columns={\n",
    "    'name': 'trainer_name',\n",
    "    'city_y': 'city',\n",
    "    'gender_y': 'gender',\n",
    "    'available_time_y': 'available_time'\n",
    "})\n",
    "\n",
    "# Group-wise Top50 selection\n",
    "result_df['rank'] = result_df.groupby('user_id')['match_score'].rank(method='first', ascending=False)\n",
    "top50_df = result_df[result_df['rank'] <= 50].copy()\n",
    "top50_df = top50_df.sort_values(['user_id', 'match_score'], ascending=[True, False])\n",
    "\n",
    "# Output\n",
    "output_path = 'user_top50_trainers_with_age.xlsx'\n",
    "top50_df.to_excel(output_path, index=False)\n",
    "output_path\n"
   ]
  },
  {
   "cell_type": "markdown",
   "id": "e085f309",
   "metadata": {},
   "source": [
    "# 2.Further Filtering"
   ]
  },
  {
   "cell_type": "markdown",
   "id": "ef7d8ac7",
   "metadata": {},
   "source": [
    "Top10 users filtered based on comprehensive ranking and content filtering Top50 (for cold-start users without any behavioural data)"
   ]
  },
  {
   "cell_type": "markdown",
   "id": "62b2156b",
   "metadata": {},
   "source": [
    "Further filter the top10 in the candidate pool for recommendation"
   ]
  },
  {
   "cell_type": "code",
   "execution_count": 4,
   "id": "a2a87f7b",
   "metadata": {},
   "outputs": [
    {
     "data": {
      "text/plain": [
       "'cold_start_top10_by_group.xlsx'"
      ]
     },
     "execution_count": 4,
     "metadata": {},
     "output_type": "execute_result"
    }
   ],
   "source": [
    "import pandas as pd\n",
    "import numpy as np\n",
    "\n",
    "file_path = 'Content_Reco.xlsx'\n",
    "df_top50 = pd.read_excel(file_path, sheet_name='top50_match_rank')\n",
    "df_a = pd.read_excel(file_path, sheet_name='GroupA_Rank')\n",
    "df_b = pd.read_excel(file_path, sheet_name='GroupB_Rank')\n",
    "df_c = pd.read_excel(file_path, sheet_name='GroupC_Rank')\n",
    "\n",
    "# Assume final_score exists in one of A/B/C group tables, merge them to get complete trainer_id-final_score mapping\n",
    "df_a['group'] = 'A'\n",
    "df_b['group'] = 'B'\n",
    "df_c['group'] = 'C'\n",
    "trainer_info = pd.concat([df_a[['trainer_id', 'final_score', 'group']],\n",
    "                          df_b[['trainer_id', 'final_score', 'group']],\n",
    "                          df_c[['trainer_id', 'final_score', 'group']]], axis=0, ignore_index=True)\n",
    "\n",
    "# 2. Merge final_score and group info into top50 table\n",
    "df = df_top50.merge(trainer_info, on='trainer_id', how='left')\n",
    "\n",
    "# 3. Normalize match_score and final_score (normalize across all trainers to avoid weight bias)\n",
    "# Here we assume match_score is already in [0,1]; otherwise normalize\n",
    "if df['match_score'].max() > 1.01 or df['match_score'].min() < -0.01:\n",
    "    ms_min, ms_max = df['match_score'].min(), df['match_score'].max()\n",
    "    df['match_score'] = (df['match_score'] - ms_min) / (ms_max - ms_min)\n",
    "\n",
    "fs_min, fs_max = trainer_info['final_score'].min(), trainer_info['final_score'].max()\n",
    "df['final_score_norm'] = (df['final_score'] - fs_min) / (fs_max - fs_min)\n",
    "\n",
    "# 4. Compute cold-start score\n",
    "df['cold_start_score'] = 0.5 * df['match_score'] + 0.5 * df['final_score_norm']\n",
    "\n",
    "# 5. Select TopN per user by group: A4 B3 C3; if insufficient, fill with others\n",
    "result_list = []\n",
    "for user_id, user_df in df.groupby('user_id'):\n",
    "    part_a = user_df[user_df['group']=='A'].sort_values('cold_start_score', ascending=False).head(4)\n",
    "    part_b = user_df[user_df['group']=='B'].sort_values('cold_start_score', ascending=False).head(3)\n",
    "    part_c = user_df[user_df['group']=='C'].sort_values('cold_start_score', ascending=False).head(3)\n",
    "    frames = [part_a, part_b, part_c]\n",
    "    res = pd.concat(frames)\n",
    "    # If total less than 10, fill with the remaining highest cold_start_score trainers\n",
    "    if res.shape[0] < 10:\n",
    "        others = user_df[~user_df['trainer_id'].isin(res['trainer_id'])]\n",
    "        needed = 10 - res.shape[0]\n",
    "        res = pd.concat([res, others.sort_values('cold_start_score', ascending=False).head(needed)])\n",
    "    # Sort and assign rank\n",
    "    res = res.sort_values('cold_start_score', ascending=False).head(10)\n",
    "    res['recommend_rank'] = np.arange(1, res.shape[0]+1)\n",
    "    result_list.append(res)\n",
    "\n",
    "final_df = pd.concat(result_list)\n",
    "\n",
    "# 6. Keep/rename required columns and export\n",
    "final_df = final_df[['user_id', 'trainer_id', 'match_score', 'final_score', 'cold_start_score', 'group', 'recommend_rank']]\n",
    "final_df['match_score'] = final_df['match_score'].round(3)\n",
    "final_df['final_score'] = final_df['final_score'].round(3)\n",
    "final_df['cold_start_score'] = final_df['cold_start_score'].round(3)\n",
    "\n",
    "output_path = 'cold_start_top10_by_group.xlsx'\n",
    "final_df.to_excel(output_path, index=False)\n",
    "output_path\n"
   ]
  },
  {
   "cell_type": "code",
   "execution_count": null,
   "id": "e200f9c3",
   "metadata": {},
   "outputs": [],
   "source": []
  },
  {
   "cell_type": "code",
   "execution_count": null,
   "id": "7ae8b3ba",
   "metadata": {},
   "outputs": [],
   "source": []
  },
  {
   "cell_type": "code",
   "execution_count": null,
   "id": "e83ad4e5",
   "metadata": {},
   "outputs": [],
   "source": []
  }
 ],
 "metadata": {
  "kernelspec": {
   "display_name": "Python (env)",
   "language": "python",
   "name": "ml_env"
  },
  "language_info": {
   "codemirror_mode": {
    "name": "ipython",
    "version": 3
   },
   "file_extension": ".py",
   "mimetype": "text/x-python",
   "name": "python",
   "nbconvert_exporter": "python",
   "pygments_lexer": "ipython3",
   "version": "3.10.16"
  }
 },
 "nbformat": 4,
 "nbformat_minor": 5
}
