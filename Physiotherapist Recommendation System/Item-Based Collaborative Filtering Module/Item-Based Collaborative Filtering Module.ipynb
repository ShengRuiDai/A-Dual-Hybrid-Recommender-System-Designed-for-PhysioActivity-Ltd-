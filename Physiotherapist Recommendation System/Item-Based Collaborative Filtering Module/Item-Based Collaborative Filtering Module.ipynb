{
 "cells": [
  {
   "cell_type": "markdown",
   "id": "591d4904",
   "metadata": {},
   "source": [
    "# Item-Based CF"
   ]
  },
  {
   "cell_type": "markdown",
   "id": "ab7052e2",
   "metadata": {},
   "source": [
    "## Score Calculation Logic"
   ]
  },
  {
   "cell_type": "markdown",
   "id": "f9363bf5",
   "metadata": {},
   "source": [
    "#### Click score:\n",
    "\n",
    "The number of all clicks made by a user on a trainer × 0.1\n",
    "\n",
    "#### Watch score:\n",
    "\n",
    "The sum of the watch_rates of all the videos of a user on a trainer × 0.3\n",
    "\n",
    "For example, if 6 videos are watched and the watch_rate is 3.2, the score is 3.2 × 0.3 = 0.96.\n",
    "\n",
    "#### Rating score (introducing penalties):\n",
    "\n",
    "A user of a trainer of all the videos rating_score and the sum of the difference between 3 points (i.e., rating minus 3), such as rating below 3 is negative, higher than 3 is positive\n",
    "\n",
    "Sum of all differences × 0.6\n",
    "\n",
    "For example, 3 ratings: 2.6, 3.8, 4.2, respectively, compared with 3, get -0.4, 0.8, 1.2, and the sum is 1.6, score = 1.6 × 0.6 = 0.96\n",
    "\n",
    "#### final preference score:\n",
    "\n",
    "For each user-physio combination, sum the three scores (click+watch+rating)\n",
    "\n",
    "#### Output results:\n",
    "\n",
    "A ‘total preference score’ is obtained for each user for each physio."
   ]
  },
  {
   "cell_type": "markdown",
   "id": "7323c9a6",
   "metadata": {},
   "source": [
    "### Choose Top 50 physios for each user based on final scores"
   ]
  },
  {
   "cell_type": "code",
   "execution_count": 1,
   "id": "5901b4ef",
   "metadata": {},
   "outputs": [],
   "source": [
    "import pandas as pd\n",
    "import numpy as np\n",
    "\n",
    "# Read data\n",
    "df = pd.read_excel('user_video_interaction.xlsx')\n",
    "\n",
    "# Data preprocessing (ensure empty strings are converted to np.nan)\n",
    "df['watch_rate'] = pd.to_numeric(df['watch_rate'], errors='coerce')\n",
    "df['rating_score'] = pd.to_numeric(df['rating_score'], errors='coerce')\n",
    "\n",
    "# Weights\n",
    "CLICK_WEIGHT = 0.1\n",
    "WATCH_WEIGHT = 0.3\n",
    "RATING_WEIGHT = 0.6\n",
    "\n",
    "# Calculate click score\n",
    "click_df = df[df['action_type'] == 'click'].groupby(['user_id', 'trainer_id']).size().reset_index(name='click_count')\n",
    "click_df['click_score'] = click_df['click_count'] * CLICK_WEIGHT\n",
    "\n",
    "# Calculate watch score\n",
    "watch_df = df[df['action_type'] == 'watch'].groupby(['user_id', 'trainer_id'])['watch_rate'].sum().reset_index()\n",
    "watch_df['watch_score'] = watch_df['watch_rate'] * WATCH_WEIGHT\n",
    "\n",
    "# Calculate rating score\n",
    "def rating_func(series):\n",
    "    return ((series - 3)).sum()\n",
    "rating_df = df[df['action_type'] == 'rate'].groupby(['user_id', 'trainer_id'])['rating_score'].apply(rating_func).reset_index()\n",
    "rating_df['rating_score_adj'] = rating_df['rating_score'] * RATING_WEIGHT\n",
    "\n",
    "# Merge all scores\n",
    "scores = pd.DataFrame({'user_id': df['user_id'].unique()})\n",
    "trainers = pd.DataFrame({'trainer_id': df['trainer_id'].unique()})\n",
    "all_user_trainer = scores.assign(key=1).merge(trainers.assign(key=1), on='key').drop('key', axis=1)\n",
    "\n",
    "result = all_user_trainer.merge(click_df[['user_id', 'trainer_id', 'click_score']], how='left', on=['user_id', 'trainer_id'])\n",
    "result = result.merge(watch_df[['user_id', 'trainer_id', 'watch_score']], how='left', on=['user_id', 'trainer_id'])\n",
    "result = result.merge(rating_df[['user_id', 'trainer_id', 'rating_score_adj']], how='left', on=['user_id', 'trainer_id'])\n",
    "\n",
    "# Fill missing values with 0\n",
    "for col in ['click_score', 'watch_score', 'rating_score_adj']:\n",
    "    result[col] = result[col].fillna(0)\n",
    "\n",
    "result['total_score'] = result['click_score'] + result['watch_score'] + result['rating_score_adj']\n",
    "\n",
    "# Select Top 50 trainers for each user\n",
    "result['rank'] = result.groupby('user_id')['total_score'].rank(method='first', ascending=False)\n",
    "top50 = result[result['rank'] <= 50].copy()\n",
    "\n",
    "# Sort by user_id and rank\n",
    "top50 = top50.sort_values(['user_id', 'rank'])\n",
    "\n",
    "# Keep only necessary columns\n",
    "top50_final = top50[['user_id', 'trainer_id', 'click_score', 'watch_score', 'rating_score_adj', 'total_score', 'rank']]\n",
    "\n",
    "# Export\n",
    "top50_final.to_excel('user_top50_trainer.xlsx', index=False)\n"
   ]
  },
  {
   "cell_type": "markdown",
   "id": "34da21d5",
   "metadata": {},
   "source": [
    "# Colaborative Filtering"
   ]
  },
  {
   "cell_type": "code",
   "execution_count": 3,
   "id": "8abf35f9",
   "metadata": {},
   "outputs": [
    {
     "data": {
      "text/html": [
       "<div>\n",
       "<style scoped>\n",
       "    .dataframe tbody tr th:only-of-type {\n",
       "        vertical-align: middle;\n",
       "    }\n",
       "\n",
       "    .dataframe tbody tr th {\n",
       "        vertical-align: top;\n",
       "    }\n",
       "\n",
       "    .dataframe thead th {\n",
       "        text-align: right;\n",
       "    }\n",
       "</style>\n",
       "<table border=\"1\" class=\"dataframe\">\n",
       "  <thead>\n",
       "    <tr style=\"text-align: right;\">\n",
       "      <th></th>\n",
       "      <th>user_id</th>\n",
       "      <th>recommended_trainer_id</th>\n",
       "      <th>sim_score</th>\n",
       "    </tr>\n",
       "  </thead>\n",
       "  <tbody>\n",
       "    <tr>\n",
       "      <th>0</th>\n",
       "      <td>U0000</td>\n",
       "      <td>471</td>\n",
       "      <td>2.008653</td>\n",
       "    </tr>\n",
       "    <tr>\n",
       "      <th>1</th>\n",
       "      <td>U0000</td>\n",
       "      <td>609</td>\n",
       "      <td>2.002484</td>\n",
       "    </tr>\n",
       "    <tr>\n",
       "      <th>2</th>\n",
       "      <td>U0000</td>\n",
       "      <td>133</td>\n",
       "      <td>1.954364</td>\n",
       "    </tr>\n",
       "    <tr>\n",
       "      <th>3</th>\n",
       "      <td>U0000</td>\n",
       "      <td>744</td>\n",
       "      <td>1.931092</td>\n",
       "    </tr>\n",
       "    <tr>\n",
       "      <th>4</th>\n",
       "      <td>U0000</td>\n",
       "      <td>423</td>\n",
       "      <td>1.907392</td>\n",
       "    </tr>\n",
       "  </tbody>\n",
       "</table>\n",
       "</div>"
      ],
      "text/plain": [
       "  user_id  recommended_trainer_id  sim_score\n",
       "0   U0000                     471   2.008653\n",
       "1   U0000                     609   2.002484\n",
       "2   U0000                     133   1.954364\n",
       "3   U0000                     744   1.931092\n",
       "4   U0000                     423   1.907392"
      ]
     },
     "execution_count": 3,
     "metadata": {},
     "output_type": "execute_result"
    }
   ],
   "source": [
    "from sklearn.metrics.pairwise import cosine_similarity\n",
    "\n",
    "df = pd.read_excel('user_top50_trainer.xlsx')\n",
    "\n",
    "# Constructing a User-Trainer Rating Matrix\n",
    "pivot = df.pivot_table(index='user_id', columns='trainer_id', values='total_score', fill_value=0)\n",
    "\n",
    "# Calculate cosine similarity between items (trainers)\n",
    "trainer_sim = cosine_similarity(pivot.T)\n",
    "trainer_sim_df = pd.DataFrame(trainer_sim, index=pivot.columns, columns=pivot.columns)\n",
    "\n",
    "# Recommended Functions\n",
    "def get_item_cf_recommendations(pivot, trainer_sim_df, top_n=10):\n",
    "    user_reco = {}\n",
    "    for user in pivot.index:\n",
    "        user_scores = pivot.loc[user]\n",
    "        liked_trainers = set(user_scores[user_scores > 0].index)\n",
    "        candidate_scores = {}\n",
    "        for trainer in liked_trainers:\n",
    "            sim_series = trainer_sim_df.loc[trainer].drop(liked_trainers, errors='ignore')\n",
    "            for other_trainer, sim_score in sim_series.items():\n",
    "                candidate_scores[other_trainer] = candidate_scores.get(other_trainer, 0) + sim_score\n",
    "        sorted_candidates = sorted(candidate_scores.items(), key=lambda x: -x[1])\n",
    "        top_recos = [t for t, s in sorted_candidates[:top_n]]\n",
    "        top_scores = [s for t, s in sorted_candidates[:top_n]]\n",
    "        user_reco[user] = list(zip(top_recos, top_scores))\n",
    "    return user_reco\n",
    "\n",
    "item_cf_recos = get_item_cf_recommendations(pivot, trainer_sim_df, top_n=50)\n",
    "\n",
    "# DataFrame\n",
    "user_list = []\n",
    "trainer_list = []\n",
    "sim_score_list = []\n",
    "for user, recos in item_cf_recos.items():\n",
    "    for trainer, score in recos:\n",
    "        user_list.append(user)\n",
    "        trainer_list.append(trainer)\n",
    "        sim_score_list.append(score)\n",
    "item_cf_df = pd.DataFrame({'user_id': user_list, 'recommended_trainer_id': trainer_list, 'sim_score': sim_score_list})\n",
    "\n",
    "\n",
    "item_cf_df.to_excel('itemcf_user_reco_top50.xlsx', index=False)\n",
    "item_cf_df.head()\n"
   ]
  },
  {
   "cell_type": "markdown",
   "id": "c745174f",
   "metadata": {},
   "source": [
    "## standardisation"
   ]
  },
  {
   "cell_type": "markdown",
   "id": "4122a5d7",
   "metadata": {},
   "source": [
    "Normalise the sim_score for subsequent hybrid recommendations to avoid inconsistent scales"
   ]
  },
  {
   "cell_type": "code",
   "execution_count": 6,
   "id": "138862ef",
   "metadata": {},
   "outputs": [
    {
     "name": "stdout",
     "output_type": "stream",
     "text": [
      "   sim_score  sim_score_z  sim_score_norm\n",
      "0   2.008653     0.906159        0.726540\n",
      "1   2.002484     0.861613        0.715403\n",
      "2   1.954364     0.514163        0.628541\n",
      "3   1.931092     0.346121        0.586530\n",
      "4   1.907392     0.175001        0.543750\n"
     ]
    }
   ],
   "source": [
    "import pandas as pd\n",
    "\n",
    "df = pd.read_excel('itemcf_user_reco_top50.xlsx')\n",
    "\n",
    "# Calculate mean and standard deviation\n",
    "mean = df['sim_score'].mean()\n",
    "std = df['sim_score'].std()\n",
    "\n",
    "# Z-score\n",
    "df['sim_score_z'] = (df['sim_score'] - mean) / std\n",
    "\n",
    "# Truncation to the interval [-2, 2] to reduce the effect of extreme values\n",
    "df['sim_score_z_clip'] = df['sim_score_z'].clip(-2, 2)\n",
    "\n",
    "# Maps to the interval [0, 1].\n",
    "df['sim_score_norm'] = (df['sim_score_z_clip'] + 2) / 4\n",
    "\n",
    "# Export of standardised data\n",
    "df.to_excel('itemcf_user_reco_top50_zscore_norm.xlsx', index=False)\n",
    "\n",
    "print(df[['sim_score', 'sim_score_z', 'sim_score_norm']].head())\n"
   ]
  }
 ],
 "metadata": {
  "kernelspec": {
   "display_name": "Python (env)",
   "language": "python",
   "name": "ml_env"
  },
  "language_info": {
   "codemirror_mode": {
    "name": "ipython",
    "version": 3
   },
   "file_extension": ".py",
   "mimetype": "text/x-python",
   "name": "python",
   "nbconvert_exporter": "python",
   "pygments_lexer": "ipython3",
   "version": "3.10.16"
  }
 },
 "nbformat": 4,
 "nbformat_minor": 5
}
